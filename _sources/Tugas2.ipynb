{
  "cells": [
    {
      "cell_type": "markdown",
      "metadata": {
        "id": "tT8hAT_9C9xh"
      },
      "source": [
        "# **Tugas 2 data_understanding**\n",
        "## **Penjelasan Outlier Deteksi**\n",
        "### **Deteksi Outlier dengan K-Nearest Neighbors (KNN) dalam Data Understanding**  \n",
        "#### 1. Pengantar Outlier dalam Data Understanding\n",
        "Outlier merupakan titik data dengan nilai yang jauh berbeda dibandingkan sebagian besar data dalam suatu dataset. Keberadaannya dapat disebabkan oleh berbagai faktor, seperti kesalahan dalam pengukuran, kesalahan input data, atau kejadian langka yang memang terjadi secara alami. Pada tahap pemahaman data (Data Understanding), mendeteksi outlier menjadi langkah krusial karena dapat memengaruhi hasil analisis, pemodelan, serta pengambilan keputusan. Jika outlier tidak teridentifikasi, model statistik atau machine learning berisiko menjadi bias, kurang akurat, atau bahkan gagal menghasilkan output yang valid.\n",
        "\n",
        "#### 2. Konsep K-Nearest Neighbors (KNN) dalam Deteksi Outlier\n",
        "K-Nearest Neighbors (KNN) merupakan salah satu algoritma yang dapat digunakan untuk mendeteksi outlier. Algoritma ini beroperasi dengan prinsip bahwa data yang normal umumnya berada dalam kelompok yang rapat, sedangkan outlier cenderung terletak jauh dari kelompok tersebut. Berikut adalah konsep dasar KNN dalam mendeteksi outlier:\n",
        "\n",
        "\n",
        "*   Prinsip Kerja KNN:\n",
        "\n",
        "\n",
        "\n",
        "KNN menentukan jarak antara suatu titik data dengan titik-titik lain di sekelilingnya. Jika sebuah titik memiliki jarak yang cukup jauh dibandingkan dengan sebagian besar tetangganya, maka titik tersebut dikategorikan sebagai outlier. Secara matematis, KNN menghitung jarak menggunakan metode seperti Euclidean, Manhattan, atau Minkowski terhadap k-tetangga terdekatnya. Jika rata-rata jarak ke k-tetangga tersebut melebihi ambang batas tertentu, maka titik data tersebut dianggap sebagai outlier.\n",
        "\n",
        "#### Kapan Menggunakan KNN untuk Deteksi Outlier?\n",
        "KNN adalah metode yang efektif untuk deteksi outlier dalam situasi berikut:\n",
        "\n",
        "Data Berdimensi Tinggi:\n",
        "KNN mampu beroperasi dengan baik pada data yang memiliki banyak fitur atau berdimensi tinggi. Namun, jika jumlah dimensinya terlalu besar, performa algoritma ini dapat menurun akibat fenomena \"curse of dimensionality\".\n",
        "\n",
        "Data Tanpa Asumsi Distribusi:\n",
        "KNN tidak bergantung pada asumsi mengenai distribusi data, sehingga dapat digunakan untuk data yang tidak mengikuti distribusi normal atau pola distribusi tertentu.\n",
        "\n",
        "Dataset dengan Ukuran Sedang:\n",
        "KNN lebih sesuai untuk dataset berukuran kecil hingga menengah, karena kompleksitas komputasinya meningkat seiring bertambahnya jumlah data. Untuk dataset yang sangat besar, metode lain seperti Local Outlier Factor (LOF) atau Isolation Forest dapat menjadi pilihan yang lebih efisien.\n",
        "\n",
        "#### Perhitungan K\n",
        "\n",
        "1. Menghitung Jarak (Euclidean Distance)\n",
        "Jarak antara dua titik A (dengan koordinat $(x_1, y_1)$  )) dan B (dengan koordinat $(x_2, y_2)$ )) dalam ruang dua dimensi dihitung dengan rumus:\n",
        "\n",
        "$d(A, B) = \\sqrt{(x_2 - x_1)^2 + (y_2 - y_1)^2}$\n",
        "\n",
        "Untuk data berdimensi n, rumusnya menjadi:\n",
        "\n",
        "$d(A, B) = \\sqrt{\\sum_{i=1}^{n} (x_{i}^{A} - x_{i}^{B})^2}$\n",
        "\n",
        "di mana:\n",
        "\n",
        "$x_{i}^{A}$ dan $ x_{i}^{B}$ adalah nilai fitur ke- $i $ dari titik $A$ dan $ B$.\n",
        "\n",
        " $d(A, B)$ adalah jarak antara dua titik.\n",
        "2. Prediksi dengan Voting (untuk Klasifikasi)\n",
        "\n",
        " Setelah menghitung jarak untuk semua data dalam dataset, ambil $K$  data dengan jarak terdekat, lalu gunakan metode mayoritas:\n",
        "\n",
        "${y} =$ $(y_1, y_2, ..., y_K)$\n",
        "\n",
        "di mana ${y} =$ $(y_1, y_2, ..., y_K)$ adalah label dari $K$ tetangga terdekat.\n",
        "\n",
        "3.  Prediksi dengan Rata-rata (untuk Regresi)\n",
        "Untuk regresi, prediksi nilai data baru adalah rata-rata dari  $K$  tetangga terdekat:\n",
        "\n",
        "${y}$ = ${1}{K}$ $_{i=1}^{K} y_i$\n",
        "\n",
        "di mana $y_1$ dalah nilai target dari $K$ tetangga terdekat.\n",
        "\n",
        "4. Pemilihan $K$ yang Optimal\n",
        "\n",
        "Biasanya, nilai $K$ dipilih berdasarkan validasi silang (*cross-validation*) untuk menemukan keseimbangan antara bias dan varians.  \n",
        "\n",
        "#### Kesimpulan\n",
        "K-Nearest Neighbors (KNN) merupakan metode yang efektif untuk mendeteksi outlier, terutama pada tahap pemahaman data (Data Understanding). Metode ini bekerja dengan prinsip jarak untuk mengenali titik data yang secara signifikan berbeda dari mayoritas data lainnya. Meskipun KNN menawarkan fleksibilitas dan kemudahan dalam implementasi, metode ini juga memiliki keterbatasan, terutama dalam aspek komputasi dan pemilihan parameter. Oleh karena itu, sebelum menggunakan KNN untuk deteksi outlier, penting untuk mempertimbangkan karakteristik dataset serta kebutuhan analisis.\n",
        "\n",
        "Dalam aplikasinya, KNN sering dikombinasikan dengan teknik lain, seperti visualisasi data menggunakan scatter plot atau box plot, guna memverifikasi hasil deteksi outlier serta meningkatkan kualitas data sebelum melangkah ke tahap pemodelan."
      ]
    },
    {
      "cell_type": "markdown",
      "metadata": {},
      "source": [
        "#### Instalasi Library PyMySQL dan Psycopg2 untuk Koneksi Database di Python"
      ]
    },
    {
      "cell_type": "code",
      "execution_count": 2,
      "metadata": {
        "colab": {
          "base_uri": "https://localhost:8080/"
        },
        "id": "qyOZ5suoEteW",
        "outputId": "7352d823-dd6d-4a2f-a64e-7cf85b3bf2a5"
      },
      "outputs": [
        {
          "name": "stdout",
          "output_type": "stream",
          "text": [
            "Requirement already satisfied: pymysql in /usr/local/python/3.12.1/lib/python3.12/site-packages (1.1.1)\n",
            "Note: you may need to restart the kernel to use updated packages.\n",
            "Requirement already satisfied: psycopg2 in /usr/local/python/3.12.1/lib/python3.12/site-packages (2.9.10)\n",
            "Note: you may need to restart the kernel to use updated packages.\n"
          ]
        }
      ],
      "source": [
        "%pip install pymysql\n",
        "%pip install psycopg2"
      ]
    },
    {
      "cell_type": "markdown",
      "metadata": {
        "id": "QqHHWpyS7s3m"
      },
      "source": [
        "1. %pip install pymysql\n",
        "\n",
        "Perintah ini saya gunakan untuk menginstal library pymysql, yang merupakan driver Python untuk berkomunikasi dengan database MySQL atau MariaDB. Dengan pymysql, saya bisa membuat koneksi ke database, menjalankan query SQL, serta melakukan operasi CRUD (Create, Read, Update, Delete) pada tabel-tabel yang ada. Ini berguna saat saya mengembangkan aplikasi berbasis database, terutama dalam proyek-proyek berbasis web atau sistem berbasis data.\n",
        "\n",
        "2. %pip install psycopg2\n",
        "\n",
        "Perintah ini saya gunakan untuk menginstal psycopg2, yang merupakan driver PostgreSQL untuk Python. PostgreSQL adalah database relasional open-source yang cukup powerful dan sering digunakan dalam aplikasi enterprise maupun web. Dengan psycopg2, saya bisa menghubungkan Python dengan database PostgreSQL untuk menjalankan query SQL, mengelola transaksi, serta memanipulasi data dengan efisien."
      ]
    },
    {
      "cell_type": "markdown",
      "metadata": {},
      "source": [
        "#### Import Library untuk Analisis Data, Visualisasi, dan Koneksi Database dengan Python"
      ]
    },
    {
      "cell_type": "code",
      "execution_count": 3,
      "metadata": {
        "id": "NUDEHiql8ijO"
      },
      "outputs": [],
      "source": [
        "import psycopg2\n",
        "import pymysql\n",
        "import numpy as np\n",
        "import pandas as pd\n",
        "import seaborn as sns\n",
        "import matplotlib.pyplot as plt\n",
        "from scipy.spatial.distance import euclidean\n",
        "from sklearn.neighbors import NearestNeighbors"
      ]
    },
    {
      "cell_type": "markdown",
      "metadata": {
        "id": "hAaViCiIKADK"
      },
      "source": [
        "Di sini saya mengimpor beberapa library yang dibutuhkan untuk menjalankan skrip analisis data dan deteksi outlier:\n",
        "\n",
        "1. import psycopg2\n",
        "→ Digunakan untuk menghubungkan Python dengan database PostgreSQL. Library ini memungkinkan eksekusi query SQL, pengambilan data, serta pengelolaan transaksi di PostgreSQL.\n",
        "\n",
        "2. import pymysql\n",
        "→ Digunakan untuk menghubungkan Python dengan database MySQL. Dengan library ini, Anda bisa mengambil dan memanipulasi data dari MySQL secara langsung melalui koneksi Python.\n",
        "\n",
        "3. import numpy as np\n",
        "→ Library utama untuk komputasi numerik. Digunakan untuk operasi pada array, perhitungan matematis, dan manipulasi data berbasis angka, seperti perhitungan jarak Euclidean dan analisis numerik lainnya.\n",
        "\n",
        "4. import pandas as pd\n",
        "→ Library yang digunakan untuk mengelola data dalam bentuk DataFrame, yaitu struktur data yang mudah dibaca dan diolah, sangat cocok untuk analisis data.\n",
        "\n",
        "5. import seaborn as sns\n",
        "→ Library visualisasi berbasis matplotlib yang lebih menarik dan interaktif. Digunakan untuk membuat grafik seperti scatter plot yang menampilkan distribusi data dan outlier.\n",
        "\n",
        "6. import matplotlib.pyplot as plt\n",
        "→ Modul dari matplotlib yang berfungsi untuk membuat berbagai jenis grafik seperti scatter plot, line plot, dan lain-lain. Dalam skrip ini, digunakan untuk menampilkan visualisasi hasil deteksi outlier.\n",
        "\n",
        "7. from scipy.spatial.distance import euclidean\n",
        "→ Digunakan untuk menghitung jarak Euclidean antara dua titik dalam ruang multidimensi. Ini penting untuk menghitung jarak antar titik pada data numerik saat mendeteksi outlier.\n",
        "\n",
        "8. from sklearn.neighbors import NearestNeighbors\n",
        "→ Bagian dari scikit-learn yang digunakan untuk algoritma K-Nearest Neighbors (KNN). Dalam skrip ini, digunakan untuk mendeteksi outlier dengan menghitung rata-rata jarak ke beberapa tetangga terdekat.\n",
        "\n",
        "Kesimpulannya, library yang diimpor ini berfungsi untuk mengambil data dari database, melakukan perhitungan matematis, dan memvisualisasikan hasil analisis."
      ]
    },
    {
      "cell_type": "markdown",
      "metadata": {},
      "source": [
        "#### Fungsi untuk Mengambil Data dari Database PostgreSQL menggunakan Python"
      ]
    },
    {
      "cell_type": "code",
      "execution_count": 4,
      "metadata": {
        "id": "DjvYsJ2W8p-B"
      },
      "outputs": [],
      "source": [
        "def get_pg_data():\n",
        "    conn = psycopg2.connect(\n",
        "        host=\"pendat23-posgreesql.g.aivencloud.com\",\n",
        "        user=\"avnadmin\",\n",
        "        password=\"AVNS_ahuC43u5vzmRtJaxiSx\",\n",
        "        database=\"defaultdb\",\n",
        "        port=26340\n",
        "    )\n",
        "    cursor = conn.cursor()\n",
        "    cursor.execute(\"SELECT * FROM iris_postgresql\")\n",
        "    data = cursor.fetchall()\n",
        "    columns = [desc[0] for desc in cursor.description]\n",
        "    cursor.close()\n",
        "    conn.close()\n",
        "    return pd.DataFrame(data, columns=columns)\n",
        "\n"
      ]
    },
    {
      "cell_type": "markdown",
      "metadata": {
        "id": "-cgsFC38KgQ8"
      },
      "source": [
        "Penjelasan skrip yang saya buat\n",
        "\n",
        "1. **Membuat Koneksi ke Database**  \n",
        "   Koneksi ke database PostgreSQL dibuat menggunakan `psycopg2.connect()` dengan parameter host, user, password, database, dan port yang sesuai.\n",
        "\n",
        "2. **Membuat Objek Cursor**  \n",
        "   Objek cursor dibuat untuk mengeksekusi perintah SQL.\n",
        "\n",
        "3. **Menjalankan Query SQL**  \n",
        "   Query `SELECT * FROM iris_postgresql` dijalankan untuk mengambil semua data dari tabel tersebut.\n",
        "\n",
        "4. **Mengambil Hasil Query**  \n",
        "   Data hasil query diambil dalam bentuk list tuple menggunakan `fetchall()`.\n",
        "\n",
        "5. **Mendapatkan Nama Kolom**  \n",
        "   Nama kolom diperoleh melalui atribut `cursor.description` agar dapat digunakan sebagai header DataFrame.\n",
        "\n",
        "6. **Menutup Koneksi**  \n",
        "   Cursor dan koneksi database ditutup untuk mencegah kebocoran sumber daya.\n",
        "\n",
        "7. **Mengembalikan Data dalam DataFrame**  \n",
        "   Data yang diambil dikonversi menjadi DataFrame pandas agar lebih mudah diproses dan dianalisis."
      ]
    },
    {
      "cell_type": "markdown",
      "metadata": {},
      "source": [
        "#### Fungsi untuk Mengambil Data dari Database MySQL menggunakan Python"
      ]
    },
    {
      "cell_type": "code",
      "execution_count": 5,
      "metadata": {
        "id": "xJoayCI-9UCe"
      },
      "outputs": [],
      "source": [
        "def get_mysql_data():\n",
        "    conn = pymysql.connect(\n",
        "        host=\"mysql-aliridwan-mysql23.h.aivencloud.com\",\n",
        "        user=\"avnadmin\",\n",
        "        password=\"AVNS_FuVRxg5O9IiRcCsBYdY\",\n",
        "        database=\"defaultdb\",\n",
        "        port=14789\n",
        "    )\n",
        "    cursor = conn.cursor()\n",
        "    cursor.execute(\"SELECT * FROM irismysql\")\n",
        "    data = cursor.fetchall()\n",
        "    columns = [desc[0] for desc in cursor.description]\n",
        "    cursor.close()\n",
        "    conn.close()\n",
        "    return pd.DataFrame(data, columns=columns)"
      ]
    },
    {
      "cell_type": "markdown",
      "metadata": {
        "id": "dTw7XLSiLo_f"
      },
      "source": [
        "Penjelasan skrip yang saya buat:\n",
        "\n",
        "1. **Membuat Koneksi ke Database**  \n",
        "   Koneksi ke database MySQL dibuat menggunakan `pymysql.connect()` dengan parameter host, user, password, database, dan port yang sesuai.\n",
        "\n",
        "2. **Membuat Objek Cursor**  \n",
        "   Objek cursor dibuat untuk menjalankan perintah SQL pada database.\n",
        "\n",
        "3. **Menjalankan Query SQL**  \n",
        "   Query `SELECT * FROM irismysql` dijalankan untuk mengambil semua data dari tabel `irismysql`.\n",
        "\n",
        "4. **Mengambil Hasil Query**  \n",
        "   Data hasil query diambil dalam bentuk list tuple menggunakan `fetchall()`.\n",
        "\n",
        "5. **Mendapatkan Nama Kolom**  \n",
        "   Nama kolom diperoleh dari atribut `cursor.description`, yang kemudian diolah agar bisa digunakan sebagai header DataFrame.\n",
        "\n",
        "6. **Menutup Koneksi**  \n",
        "   Cursor dan koneksi database ditutup untuk menghindari kebocoran sumber daya.\n",
        "\n",
        "7. **Mengembalikan Data dalam DataFrame**  \n",
        "   Data yang diambil dikonversi menjadi DataFrame pandas agar lebih mudah diproses dan dianalisis."
      ]
    },
    {
      "cell_type": "markdown",
      "metadata": {},
      "source": [
        "#### Deteksi Outlier pada Data Iris menggunakan K-Nearest Neighbors (KNN)"
      ]
    },
    {
      "cell_type": "code",
      "execution_count": 6,
      "metadata": {
        "colab": {
          "base_uri": "https://localhost:8080/",
          "height": 1000
        },
        "id": "QOmu1Hsm8vnS",
        "outputId": "2fd6613b-f59a-4071-bb52-734b9ed8e579"
      },
      "outputs": [
        {
          "name": "stdout",
          "output_type": "stream",
          "text": [
            " id           class  petal_length  petal_width  sepal_length  sepal_width  knn_distance  outlier\n",
            "  1     Iris-setosa           1.4          0.2           5.1          3.5      0.133137    False\n",
            "  2     Iris-setosa          14.0          2.0          40.9         30.0     43.258305     True\n",
            "  3     Iris-setosa           1.3          0.2           4.7          3.2      0.236019    False\n",
            "  4     Iris-setosa           1.5          0.2           4.6          3.1      0.209551    False\n",
            "  5     Iris-setosa           1.4          0.2           5.0          3.6      0.191277    False\n",
            "  6     Iris-setosa           1.7          0.4           5.4          3.9      0.360018    False\n",
            "  7     Iris-setosa           1.4          0.3           4.6          3.4      0.284127    False\n",
            "  8     Iris-setosa           1.5          0.2           5.0          3.4      0.167647    False\n",
            "  9     Iris-setosa           1.4          0.2           4.4          2.9      0.292923    False\n",
            " 10     Iris-setosa           1.5          0.1           4.9          3.1      0.109282    False\n",
            " 11     Iris-setosa           1.5          0.2           5.4          3.7      0.269234    False\n",
            " 12     Iris-setosa           1.6          0.2           4.8          3.4      0.266011    False\n",
            " 13     Iris-setosa           1.4          0.1           4.8          3.0      0.192913    False\n",
            " 14     Iris-setosa           1.1          0.1           4.3          3.0      0.377434    False\n",
            " 15     Iris-setosa           1.2          0.2           5.8          4.0      0.513789    False\n",
            " 16     Iris-setosa           1.5          0.4           5.7          4.4      0.556295    False\n",
            " 17     Iris-setosa           1.3          0.4           5.4          3.9      0.376312    False\n",
            " 18     Iris-setosa           1.4          0.3           5.1          3.5      0.152207    False\n",
            " 19     Iris-setosa           1.7          0.3           5.7          3.8      0.443504    False\n",
            " 20     Iris-setosa           1.5          0.3           5.1          3.8      0.221719    False\n",
            " 21     Iris-setosa           1.7          0.2           5.4          3.4      0.332902    False\n",
            " 22     Iris-setosa           1.5          0.4           5.1          3.7      0.235747    False\n",
            " 23     Iris-setosa           1.0          0.2           4.6          3.6      0.518395    False\n",
            " 24     Iris-setosa           1.7          0.5           5.1          3.3      0.322668    False\n",
            " 25     Iris-setosa           1.9          0.2           4.8          3.4      0.391591    False\n",
            " 26     Iris-setosa           1.6          0.2           5.0          3.0      0.224721    False\n",
            " 27     Iris-setosa           1.6          0.4           5.0          3.4      0.231348    False\n",
            " 28     Iris-setosa           1.5          0.2           5.2          3.5      0.164215    False\n",
            " 29     Iris-setosa           1.4          0.2           5.2          3.4      0.164215    False\n",
            " 30     Iris-setosa           1.6          0.2           4.7          3.2      0.205283    False\n",
            " 31     Iris-setosa           1.6          0.2           4.8          3.1      0.176929    False\n",
            " 32     Iris-setosa           1.5          0.4           5.4          3.4      0.309096    False\n",
            " 33     Iris-setosa           1.5          0.1           5.2          4.1      0.389902    False\n",
            " 34     Iris-setosa           1.4          0.2           5.5          4.2      0.397231    False\n",
            " 35     Iris-setosa           1.5          0.1           4.9          3.1      0.109282    False\n",
            " 36     Iris-setosa           1.2          0.2           5.0          3.2      0.312863    False\n",
            " 37     Iris-setosa           1.3          0.2           5.5          3.5      0.330971    False\n",
            " 38     Iris-setosa           1.5          0.1           4.9          3.1      0.109282    False\n",
            " 39     Iris-setosa           1.3          0.2           4.4          3.0      0.237274    False\n",
            " 40     Iris-setosa           1.5          0.2           5.1          3.4      0.139494    False\n",
            " 41     Iris-setosa           1.3          0.3           5.0          3.5      0.195546    False\n",
            " 42     Iris-setosa           1.3          0.3           4.5          2.3      0.736302     True\n",
            " 43     Iris-setosa           1.3          0.2           4.4          3.2      0.267967    False\n",
            " 44     Iris-setosa           1.6          0.6           5.0          3.5      0.320568    False\n",
            " 45     Iris-setosa           1.9          0.4           5.1          3.8      0.407785    False\n",
            " 46     Iris-setosa           1.4          0.3           4.8          3.0      0.247735    False\n",
            " 47     Iris-setosa           1.6          0.2           5.1          3.8      0.252596    False\n",
            " 48     Iris-setosa           1.4          0.2           4.6          3.2      0.190733    False\n",
            " 49     Iris-setosa           1.5          0.2           5.3          3.7      0.219269    False\n",
            " 50     Iris-setosa           1.4          0.2           5.0          3.3      0.197089    False\n",
            " 51 Iris-versicolor           4.7          1.4           7.0          3.2      0.402000    False\n",
            " 52 Iris-versicolor           4.5          1.5           6.4          3.2      0.337735    False\n",
            " 53 Iris-versicolor           4.9          1.5           6.9          3.1      0.343992    False\n",
            " 54 Iris-versicolor           4.0          1.3           5.5          2.3      0.337602    False\n",
            " 55 Iris-versicolor           4.6          1.5           6.5          2.8      0.339361    False\n",
            " 56 Iris-versicolor           4.5          1.3           5.7          2.8      0.327657    False\n",
            " 57 Iris-versicolor           4.7          1.6           6.3          3.3      0.395904    False\n",
            " 58 Iris-versicolor           3.3          1.0           4.9          2.4      0.499098    False\n",
            " 59 Iris-versicolor           4.6          1.3           6.6          2.9      0.287716    False\n",
            " 60 Iris-versicolor           3.9          1.4           5.2          2.7      0.496896    False\n",
            " 61 Iris-versicolor           3.5          1.0           5.0          2.0      0.584977    False\n",
            " 62 Iris-versicolor           4.2          1.5           5.9          3.0      0.345388    False\n",
            " 63 Iris-versicolor           4.0          1.0           6.0          2.2      0.544685    False\n",
            " 64 Iris-versicolor           4.7          1.4           6.1          2.9      0.294026    False\n",
            " 65 Iris-versicolor           3.6          1.3           5.6          2.9      0.487902    False\n",
            " 66 Iris-versicolor           4.4          1.4           6.7          3.1      0.301517    False\n",
            " 67 Iris-versicolor           4.5          1.5           5.6          3.0      0.344775    False\n",
            " 68 Iris-versicolor           4.1          1.0           5.8          2.7      0.318835    False\n",
            " 69 Iris-versicolor           4.5          1.5           6.2          2.2      0.539667    False\n",
            " 70 Iris-versicolor           3.9          1.1           5.6          2.5      0.249461    False\n",
            " 71 Iris-versicolor           4.8          1.8           5.9          3.2      0.355494    False\n",
            " 72 Iris-versicolor           4.0          1.3           6.1          2.8      0.372910    False\n",
            " 73 Iris-versicolor           4.9          1.5           6.3          2.5      0.398715    False\n",
            " 74 Iris-versicolor           4.7          1.2           6.1          2.8      0.361011    False\n",
            " 75 Iris-versicolor           4.3          1.3           6.4          2.9      0.319945    False\n",
            " 76 Iris-versicolor           4.4          1.4           6.6          3.0      0.256680    False\n",
            " 77 Iris-versicolor           4.8          1.4           6.8          2.8      0.361496    False\n",
            " 78 Iris-versicolor           5.0          1.7           6.7          3.0      0.390246    False\n",
            " 79 Iris-versicolor           4.5          1.5           6.0          2.9      0.299437    False\n",
            " 80 Iris-versicolor           3.5          1.0           5.7          2.6      0.424564    False\n",
            " 81 Iris-versicolor           3.8          1.1           5.5          2.4      0.267778    False\n",
            " 82 Iris-versicolor           3.7          1.0           5.5          2.4      0.324837    False\n",
            " 83 Iris-versicolor           3.9          1.2           5.8          2.7      0.267050    False\n",
            " 84 Iris-versicolor           5.1          1.6           6.0          2.7      0.367850    False\n",
            " 85 Iris-versicolor           4.5          1.5           5.4          3.0      0.418339    False\n",
            " 86 Iris-versicolor           4.5          1.6           6.0          3.4      0.447126    False\n",
            " 87 Iris-versicolor           4.7          1.5           6.7          3.1      0.318674    False\n",
            " 88 Iris-versicolor           4.4          1.3           6.3          2.3      0.531071    False\n",
            " 89 Iris-versicolor           4.1          1.3           5.6          3.0      0.252082    False\n",
            " 90 Iris-versicolor           4.0          1.3           5.5          2.5      0.275322    False\n",
            " 91 Iris-versicolor           4.4          1.2           5.5          2.6      0.370719    False\n",
            " 92 Iris-versicolor           4.6          1.4           6.1          3.0      0.275026    False\n",
            " 93 Iris-versicolor           4.0          1.2           5.8          2.6      0.246350    False\n",
            " 94 Iris-versicolor           3.3          1.0           5.0          2.3      0.451692    False\n",
            " 95 Iris-versicolor           4.2          1.3           5.6          2.7      0.255523    False\n",
            " 96 Iris-versicolor           4.2          1.2           5.7          3.0      0.250359    False\n",
            " 97 Iris-versicolor           4.2          1.3           5.7          2.9      0.195931    False\n",
            " 98 Iris-versicolor           4.3          1.3           6.2          2.9      0.322356    False\n",
            " 99 Iris-versicolor           3.0          1.1           5.1          2.5      0.621594    False\n",
            "100 Iris-versicolor           4.1          1.3           5.7          2.8      0.209551    False\n",
            "101  Iris-virginica           6.0          2.5           6.3          3.3      0.519844    False\n",
            "102  Iris-virginica           5.1          1.9           5.8          2.7      0.254604    False\n",
            "103  Iris-virginica           5.9          2.1           7.1          3.0      0.431573    False\n",
            "104  Iris-virginica           5.6          1.8           6.3          2.9      0.326625    False\n",
            "105  Iris-virginica           5.8          2.2           6.5          3.0      0.350276    False\n",
            "106  Iris-virginica           6.6          2.1           7.6          3.0      0.499489    False\n",
            "107  Iris-virginica           4.5          1.7           4.9          2.5      0.810164     True\n",
            "108  Iris-virginica           6.3          1.8           7.3          2.9      0.466823    False\n",
            "109  Iris-virginica           5.8          1.8           6.7          2.5      0.602832    False\n",
            "110  Iris-virginica           6.1          2.5           7.2          3.6      0.714318     True\n",
            "111  Iris-virginica           5.1          2.0           6.5          3.2      0.383068    False\n",
            "112  Iris-virginica           5.3          1.9           6.4          2.7      0.373868    False\n",
            "113  Iris-virginica           5.5          2.1           6.8          3.0      0.325700    False\n",
            "114  Iris-virginica           5.0          2.0           5.7          2.5      0.385630    False\n",
            "115  Iris-virginica           5.1          2.4           5.8          2.8      0.533926    False\n",
            "116  Iris-virginica           5.3          2.3           6.4          3.2      0.364586    False\n",
            "117  Iris-virginica           5.5          1.8           6.5          3.0      0.304304    False\n",
            "118  Iris-virginica           6.7          2.2           7.7          3.8      0.823174     True\n",
            "119  Iris-virginica           6.9          2.3           7.7          2.6      0.749237     True\n",
            "120  Iris-virginica           5.0          1.5           6.0          2.2      0.546572    False\n",
            "121  Iris-virginica           5.7          2.3           6.9          3.2      0.289747    False\n",
            "122  Iris-virginica           4.9          2.0           5.6          2.8      0.382455    False\n",
            "123  Iris-virginica           6.7          2.0           7.7          2.8      0.532679    False\n",
            "124  Iris-virginica           4.9          1.8           6.3          2.7      0.302686    False\n",
            "125  Iris-virginica           5.7          2.1           6.7          3.3      0.350372    False\n",
            "126  Iris-virginica           6.0          1.8           7.2          3.2      0.457343    False\n",
            "127  Iris-virginica           4.8          1.8           6.2          2.8      0.302512    False\n",
            "128  Iris-virginica           4.9          1.8           6.1          3.0      0.265954    False\n",
            "129  Iris-virginica           5.6          2.1           6.4          2.8      0.301871    False\n",
            "130  Iris-virginica           5.8          1.6           7.2          3.0      0.527962    False\n",
            "131  Iris-virginica           6.1          1.9           7.4          2.8      0.448059    False\n",
            "132  Iris-virginica           6.4          2.0           7.9          3.8      0.836056     True\n",
            "133  Iris-virginica           5.6          2.2           6.4          2.8      0.345839    False\n",
            "134  Iris-virginica           5.1          1.5           6.3          2.8      0.392106    False\n",
            "135  Iris-virginica           5.6          1.4           6.1          2.6      0.608343    False\n",
            "136  Iris-virginica           6.1          2.3           7.7          3.0      0.625559    False\n",
            "137  Iris-virginica           5.6          2.4           6.3          3.4      0.398480    False\n",
            "138  Iris-virginica           5.5          1.8           6.4          3.1      0.333563    False\n",
            "139  Iris-virginica           4.8          1.8           6.0          3.0      0.279998    False\n",
            "140  Iris-virginica           5.4          2.1           6.9          3.1      0.336158    False\n",
            "141  Iris-virginica           5.6          2.4           6.7          3.1      0.312580    False\n",
            "142  Iris-virginica           5.1          2.3           6.9          3.1      0.420813    False\n",
            "143  Iris-virginica           5.1          1.9           5.8          2.7      0.254604    False\n",
            "144  Iris-virginica           5.9          2.3           6.8          3.2      0.317954    False\n",
            "145  Iris-virginica           5.7          2.5           6.7          3.3      0.339413    False\n",
            "146  Iris-virginica           5.2          2.3           6.7          3.0      0.342878    False\n",
            "147  Iris-virginica           5.0          1.9           6.3          2.5      0.379661    False\n",
            "148  Iris-virginica           5.2          2.0           6.5          3.0      0.335685    False\n",
            "149  Iris-virginica           5.4          2.3           6.2          3.4      0.468533    False\n",
            "150  Iris-virginica           5.1          1.8           5.9          3.0      0.324590    False\n",
            "151             ???           5.1          3.2           5.8          1.0      2.035647     True\n"
          ]
        },
        {
          "data": {
            "image/png": "[encoded data removed]",
            "text/plain": [
              "<Figure size 800x600 with 1 Axes>"
            ]
          },
          "metadata": {},
          "output_type": "display_data"
        },
        {
          "data": {
            "image/png": "[encoded data removed]",
            "text/plain": [
              "<Figure size 800x600 with 1 Axes>"
            ]
          },
          "metadata": {},
          "output_type": "display_data"
        }
      ],
      "source": [
        "# Ambil data dari kedua database\n",
        "df_postgresql = get_pg_data()\n",
        "df_mysql = get_mysql_data()\n",
        "\n",
        "# Gabungkan berdasarkan kolom 'id' dan 'Class'\n",
        "df_merged = pd.merge(df_mysql, df_postgresql, on=[\"id\", \"class\"], how=\"inner\")\n",
        "\n",
        "# Ambil data fitur numerik\n",
        "feature_columns = [\"petal_length\", \"petal_width\", \"sepal_length\", \"sepal_width\"]\n",
        "data_values = df_merged[feature_columns].values\n",
        "\n",
        "# Gunakan KNN untuk mendeteksi outlier\n",
        "K = 5  # Jumlah tetangga terdekat\n",
        "nbrs = NearestNeighbors(n_neighbors=K+1, metric='euclidean').fit(data_values)\n",
        "distances, indices = nbrs.kneighbors(data_values)\n",
        "\n",
        "# Ambil rata-rata jarak ke K tetangga terdekat (tidak termasuk jarak ke dirinya sendiri)\n",
        "df_merged[\"knn_distance\"] = np.mean(distances[:, 1:], axis=1)\n",
        "\n",
        "# Tentukan threshold outlier berdasarkan persentil ke-95\n",
        "threshold = np.percentile(df_merged[\"knn_distance\"], 95)\n",
        "df_merged[\"outlier\"] = df_merged[\"knn_distance\"] > threshold\n",
        "\n",
        "# Cetak hasil data dengan outlier\n",
        "print(df_merged.to_string(index=False))\n",
        "\n",
        "# Visualisasi scatter plot dengan warna berdasarkan outlier\n",
        "plt.figure(figsize=(8, 6))\n",
        "sns.scatterplot(\n",
        "    x=df_merged[\"sepal_length\"], y=df_merged[\"sepal_width\"],\n",
        "    hue=df_merged[\"outlier\"], palette={False: \"blue\", True: \"red\"}\n",
        ")\n",
        "plt.title(\"Outlier Detection with KNN (Sepal)\")\n",
        "plt.show()\n",
        "\n",
        "plt.figure(figsize=(8, 6))\n",
        "sns.scatterplot(\n",
        "    x=df_merged[\"petal_length\"], y=df_merged[\"petal_width\"],\n",
        "    hue=df_merged[\"outlier\"], palette={False: \"blue\", True: \"red\"}\n",
        ")\n",
        "plt.title(\"Outlier Detection with KNN (Petal)\")\n",
        "plt.show()"
      ]
    },
    {
      "cell_type": "markdown",
      "metadata": {
        "id": "l656ZRGRNOKm"
      },
      "source": [
        "Penjelasan Skrip diatas:\n",
        "\n",
        "1. **Mengambil Data**  \n",
        "   Data diambil dari dua database berbeda, PostgreSQL dan MySQL, menggunakan fungsi tertentu, lalu disimpan dalam DataFrame pandas.\n",
        "\n",
        "2. **Menggabungkan Data**  \n",
        "   Kedua DataFrame digabungkan menggunakan inner join berdasarkan kolom `id` dan `class`, sehingga hanya data dengan kedua nilai yang sesuai yang dipertahankan.\n",
        "\n",
        "3. **Memilih Kolom Fitur Numerik**  \n",
        "   Empat kolom fitur numerik dipilih, yaitu `petal_length`, `petal_width`, `sepal_length`, dan `sepal_width`, untuk digunakan dalam perhitungan jarak.\n",
        "\n",
        "4. **Menentukan Titik Referensi**  \n",
        "   Titik referensi untuk perhitungan jarak Euclidean ditentukan menggunakan baris terakhir dari data tersebut.\n",
        "\n",
        "5. **Menghitung Jarak Euclidean**  \n",
        "   Fungsi khusus digunakan untuk menghitung jarak Euclidean antara setiap titik data dengan titik referensi. Hasilnya disimpan dalam kolom `distance`.\n",
        "\n",
        "6. **Menentukan Threshold Outlier**  \n",
        "   Threshold outlier ditentukan berdasarkan persentil ke-93.5 dari kolom jarak Euclidean. Data yang jaraknya melebihi nilai ini dianggap outlier.\n",
        "\n",
        "7. **Mencetak Hasil**  \n",
        "   Hasil akhir mencakup semua data beserta informasi apakah data tersebut outlier atau tidak.\n",
        "\n",
        "8. **Visualisasi Scatter Plot**  \n",
        "   Dua scatter plot dibuat:  \n",
        "   - Scatter plot pertama menampilkan data berdasarkan `sepal_length` dan `sepal_width`.\n",
        "   - Scatter plot kedua menampilkan data berdasarkan `petal_length` dan `petal_width`.  \n",
        "   Pada kedua plot, titik biru menunjukkan data normal, sedangkan titik merah menunjukkan outlier."
      ]
    },
    {
      "cell_type": "markdown",
      "metadata": {},
      "source": [
        "#### Menghitung Jumlah Outlier pada Data Iris menggunakan KNN"
      ]
    },
    {
      "cell_type": "code",
      "execution_count": 7,
      "metadata": {
        "colab": {
          "base_uri": "https://localhost:8080/"
        },
        "id": "PQJtqeGePMHd",
        "outputId": "668a4f39-af09-4d79-b59f-9301386ffd3c"
      },
      "outputs": [
        {
          "name": "stdout",
          "output_type": "stream",
          "text": [
            "Total Outlier: 8\n"
          ]
        }
      ],
      "source": [
        "# Hitung total outlier\n",
        "total_outliers = df_merged[\"outlier\"].sum()\n",
        "print(f\"Total Outlier: {total_outliers}\")"
      ]
    },
    {
      "cell_type": "markdown",
      "metadata": {
        "id": "ryCHMrBoPZ7V"
      },
      "source": [
        "1. df_merged[\"outlier\"].sum()\n",
        "\n",
        "→ Saya menghitung jumlah total outlier dalam dataset.\n",
        "\n",
        "Kolom outlier berisi nilai True (1) jika data adalah outlier dan False (0) jika bukan.\n",
        "Fungsi .sum() menjumlahkan semua nilai True (1), sehingga menghasilkan total jumlah outlier.\n",
        "2. print(f\"Total Outlier: {total_outliers}\")\n",
        "\n",
        "→ Saya mencetak jumlah total outlier dengan format string (f-string)."
      ]
    },
    {
      "cell_type": "markdown",
      "metadata": {
        "id": "a85bJ0y5xeGl"
      },
      "source": [
        "#### Menampilkan daftar outlier yang terdeteksi"
      ]
    },
    {
      "cell_type": "code",
      "execution_count": 8,
      "metadata": {
        "colab": {
          "base_uri": "https://localhost:8080/"
        },
        "id": "_ydOndnkxcBN",
        "outputId": "18b9a6ee-dfa9-4942-9283-9297e1b8a83c"
      },
      "outputs": [
        {
          "name": "stdout",
          "output_type": "stream",
          "text": [
            "Outlier Teratas:\n",
            " id          class  petal_length  petal_width  sepal_length  sepal_width  knn_distance  outlier\n",
            "  2    Iris-setosa          14.0          2.0          40.9         30.0     43.258305     True\n",
            "151            ???           5.1          3.2           5.8          1.0      2.035647     True\n",
            "132 Iris-virginica           6.4          2.0           7.9          3.8      0.836056     True\n",
            "118 Iris-virginica           6.7          2.2           7.7          3.8      0.823174     True\n",
            "107 Iris-virginica           4.5          1.7           4.9          2.5      0.810164     True\n",
            "119 Iris-virginica           6.9          2.3           7.7          2.6      0.749237     True\n",
            " 42    Iris-setosa           1.3          0.3           4.5          2.3      0.736302     True\n",
            "110 Iris-virginica           6.1          2.5           7.2          3.6      0.714318     True\n"
          ]
        }
      ],
      "source": [
        "outliers = df_merged[df_merged[\"outlier\"]].sort_values(by=\"knn_distance\", ascending=False)\n",
        "print(\"Outlier Teratas:\")\n",
        "print(outliers.to_string(index=False))"
      ]
    },
    {
      "cell_type": "markdown",
      "metadata": {},
      "source": [
        "#### Mengurutkan Data Berdasarkan Jarak KNN untuk Identifikasi Outlier"
      ]
    },
    {
      "cell_type": "code",
      "execution_count": 10,
      "metadata": {
        "colab": {
          "base_uri": "https://localhost:8080/"
        },
        "id": "onEIyzMP1mIh",
        "outputId": "dd368e18-7b06-43d0-bddb-949fc55f7f27"
      },
      "outputs": [
        {
          "name": "stdout",
          "output_type": "stream",
          "text": [
            " id           class  petal_length  petal_width  sepal_length  sepal_width  knn_distance  outlier\n",
            " 10     Iris-setosa           1.5          0.1           4.9          3.1      0.109282    False\n",
            " 35     Iris-setosa           1.5          0.1           4.9          3.1      0.109282    False\n",
            " 38     Iris-setosa           1.5          0.1           4.9          3.1      0.109282    False\n",
            "  1     Iris-setosa           1.4          0.2           5.1          3.5      0.133137    False\n",
            " 40     Iris-setosa           1.5          0.2           5.1          3.4      0.139494    False\n",
            " 18     Iris-setosa           1.4          0.3           5.1          3.5      0.152207    False\n",
            " 28     Iris-setosa           1.5          0.2           5.2          3.5      0.164215    False\n",
            " 29     Iris-setosa           1.4          0.2           5.2          3.4      0.164215    False\n",
            "  8     Iris-setosa           1.5          0.2           5.0          3.4      0.167647    False\n",
            " 31     Iris-setosa           1.6          0.2           4.8          3.1      0.176929    False\n",
            " 48     Iris-setosa           1.4          0.2           4.6          3.2      0.190733    False\n",
            "  5     Iris-setosa           1.4          0.2           5.0          3.6      0.191277    False\n",
            " 13     Iris-setosa           1.4          0.1           4.8          3.0      0.192913    False\n",
            " 41     Iris-setosa           1.3          0.3           5.0          3.5      0.195546    False\n",
            " 97 Iris-versicolor           4.2          1.3           5.7          2.9      0.195931    False\n",
            " 50     Iris-setosa           1.4          0.2           5.0          3.3      0.197089    False\n",
            " 30     Iris-setosa           1.6          0.2           4.7          3.2      0.205283    False\n",
            "  4     Iris-setosa           1.5          0.2           4.6          3.1      0.209551    False\n",
            "100 Iris-versicolor           4.1          1.3           5.7          2.8      0.209551    False\n",
            " 49     Iris-setosa           1.5          0.2           5.3          3.7      0.219269    False\n",
            " 20     Iris-setosa           1.5          0.3           5.1          3.8      0.221719    False\n",
            " 26     Iris-setosa           1.6          0.2           5.0          3.0      0.224721    False\n",
            " 27     Iris-setosa           1.6          0.4           5.0          3.4      0.231348    False\n",
            " 22     Iris-setosa           1.5          0.4           5.1          3.7      0.235747    False\n",
            "  3     Iris-setosa           1.3          0.2           4.7          3.2      0.236019    False\n",
            " 39     Iris-setosa           1.3          0.2           4.4          3.0      0.237274    False\n",
            " 93 Iris-versicolor           4.0          1.2           5.8          2.6      0.246350    False\n",
            " 46     Iris-setosa           1.4          0.3           4.8          3.0      0.247735    False\n",
            " 70 Iris-versicolor           3.9          1.1           5.6          2.5      0.249461    False\n",
            " 96 Iris-versicolor           4.2          1.2           5.7          3.0      0.250359    False\n",
            " 89 Iris-versicolor           4.1          1.3           5.6          3.0      0.252082    False\n",
            " 47     Iris-setosa           1.6          0.2           5.1          3.8      0.252596    False\n",
            "102  Iris-virginica           5.1          1.9           5.8          2.7      0.254604    False\n",
            "143  Iris-virginica           5.1          1.9           5.8          2.7      0.254604    False\n",
            " 95 Iris-versicolor           4.2          1.3           5.6          2.7      0.255523    False\n",
            " 76 Iris-versicolor           4.4          1.4           6.6          3.0      0.256680    False\n",
            "128  Iris-virginica           4.9          1.8           6.1          3.0      0.265954    False\n",
            " 12     Iris-setosa           1.6          0.2           4.8          3.4      0.266011    False\n",
            " 83 Iris-versicolor           3.9          1.2           5.8          2.7      0.267050    False\n",
            " 81 Iris-versicolor           3.8          1.1           5.5          2.4      0.267778    False\n",
            " 43     Iris-setosa           1.3          0.2           4.4          3.2      0.267967    False\n",
            " 11     Iris-setosa           1.5          0.2           5.4          3.7      0.269234    False\n",
            " 92 Iris-versicolor           4.6          1.4           6.1          3.0      0.275026    False\n",
            " 90 Iris-versicolor           4.0          1.3           5.5          2.5      0.275322    False\n",
            "139  Iris-virginica           4.8          1.8           6.0          3.0      0.279998    False\n",
            "  7     Iris-setosa           1.4          0.3           4.6          3.4      0.284127    False\n",
            " 59 Iris-versicolor           4.6          1.3           6.6          2.9      0.287716    False\n",
            "121  Iris-virginica           5.7          2.3           6.9          3.2      0.289747    False\n",
            "  9     Iris-setosa           1.4          0.2           4.4          2.9      0.292923    False\n",
            " 64 Iris-versicolor           4.7          1.4           6.1          2.9      0.294026    False\n",
            " 79 Iris-versicolor           4.5          1.5           6.0          2.9      0.299437    False\n",
            " 66 Iris-versicolor           4.4          1.4           6.7          3.1      0.301517    False\n",
            "129  Iris-virginica           5.6          2.1           6.4          2.8      0.301871    False\n",
            "127  Iris-virginica           4.8          1.8           6.2          2.8      0.302512    False\n",
            "124  Iris-virginica           4.9          1.8           6.3          2.7      0.302686    False\n",
            "117  Iris-virginica           5.5          1.8           6.5          3.0      0.304304    False\n",
            " 32     Iris-setosa           1.5          0.4           5.4          3.4      0.309096    False\n",
            "141  Iris-virginica           5.6          2.4           6.7          3.1      0.312580    False\n",
            " 36     Iris-setosa           1.2          0.2           5.0          3.2      0.312863    False\n",
            "144  Iris-virginica           5.9          2.3           6.8          3.2      0.317954    False\n",
            " 87 Iris-versicolor           4.7          1.5           6.7          3.1      0.318674    False\n",
            " 68 Iris-versicolor           4.1          1.0           5.8          2.7      0.318835    False\n",
            " 75 Iris-versicolor           4.3          1.3           6.4          2.9      0.319945    False\n",
            " 44     Iris-setosa           1.6          0.6           5.0          3.5      0.320568    False\n",
            " 98 Iris-versicolor           4.3          1.3           6.2          2.9      0.322356    False\n",
            " 24     Iris-setosa           1.7          0.5           5.1          3.3      0.322668    False\n",
            "150  Iris-virginica           5.1          1.8           5.9          3.0      0.324590    False\n",
            " 82 Iris-versicolor           3.7          1.0           5.5          2.4      0.324837    False\n",
            "113  Iris-virginica           5.5          2.1           6.8          3.0      0.325700    False\n",
            "104  Iris-virginica           5.6          1.8           6.3          2.9      0.326625    False\n",
            " 56 Iris-versicolor           4.5          1.3           5.7          2.8      0.327657    False\n",
            " 37     Iris-setosa           1.3          0.2           5.5          3.5      0.330971    False\n",
            " 21     Iris-setosa           1.7          0.2           5.4          3.4      0.332902    False\n",
            "138  Iris-virginica           5.5          1.8           6.4          3.1      0.333563    False\n",
            "148  Iris-virginica           5.2          2.0           6.5          3.0      0.335685    False\n",
            "140  Iris-virginica           5.4          2.1           6.9          3.1      0.336158    False\n",
            " 54 Iris-versicolor           4.0          1.3           5.5          2.3      0.337602    False\n",
            " 52 Iris-versicolor           4.5          1.5           6.4          3.2      0.337735    False\n",
            " 55 Iris-versicolor           4.6          1.5           6.5          2.8      0.339361    False\n",
            "145  Iris-virginica           5.7          2.5           6.7          3.3      0.339413    False\n",
            "146  Iris-virginica           5.2          2.3           6.7          3.0      0.342878    False\n",
            " 53 Iris-versicolor           4.9          1.5           6.9          3.1      0.343992    False\n",
            " 67 Iris-versicolor           4.5          1.5           5.6          3.0      0.344775    False\n",
            " 62 Iris-versicolor           4.2          1.5           5.9          3.0      0.345388    False\n",
            "133  Iris-virginica           5.6          2.2           6.4          2.8      0.345839    False\n",
            "105  Iris-virginica           5.8          2.2           6.5          3.0      0.350276    False\n",
            "125  Iris-virginica           5.7          2.1           6.7          3.3      0.350372    False\n",
            " 71 Iris-versicolor           4.8          1.8           5.9          3.2      0.355494    False\n",
            "  6     Iris-setosa           1.7          0.4           5.4          3.9      0.360018    False\n",
            " 74 Iris-versicolor           4.7          1.2           6.1          2.8      0.361011    False\n",
            " 77 Iris-versicolor           4.8          1.4           6.8          2.8      0.361496    False\n",
            "116  Iris-virginica           5.3          2.3           6.4          3.2      0.364586    False\n",
            " 84 Iris-versicolor           5.1          1.6           6.0          2.7      0.367850    False\n",
            " 91 Iris-versicolor           4.4          1.2           5.5          2.6      0.370719    False\n",
            " 72 Iris-versicolor           4.0          1.3           6.1          2.8      0.372910    False\n",
            "112  Iris-virginica           5.3          1.9           6.4          2.7      0.373868    False\n",
            " 17     Iris-setosa           1.3          0.4           5.4          3.9      0.376312    False\n",
            " 14     Iris-setosa           1.1          0.1           4.3          3.0      0.377434    False\n",
            "147  Iris-virginica           5.0          1.9           6.3          2.5      0.379661    False\n",
            "122  Iris-virginica           4.9          2.0           5.6          2.8      0.382455    False\n",
            "111  Iris-virginica           5.1          2.0           6.5          3.2      0.383068    False\n",
            "114  Iris-virginica           5.0          2.0           5.7          2.5      0.385630    False\n",
            " 33     Iris-setosa           1.5          0.1           5.2          4.1      0.389902    False\n",
            " 78 Iris-versicolor           5.0          1.7           6.7          3.0      0.390246    False\n",
            " 25     Iris-setosa           1.9          0.2           4.8          3.4      0.391591    False\n",
            "134  Iris-virginica           5.1          1.5           6.3          2.8      0.392106    False\n",
            " 57 Iris-versicolor           4.7          1.6           6.3          3.3      0.395904    False\n",
            " 34     Iris-setosa           1.4          0.2           5.5          4.2      0.397231    False\n",
            "137  Iris-virginica           5.6          2.4           6.3          3.4      0.398480    False\n",
            " 73 Iris-versicolor           4.9          1.5           6.3          2.5      0.398715    False\n",
            " 51 Iris-versicolor           4.7          1.4           7.0          3.2      0.402000    False\n",
            " 45     Iris-setosa           1.9          0.4           5.1          3.8      0.407785    False\n",
            " 85 Iris-versicolor           4.5          1.5           5.4          3.0      0.418339    False\n",
            "142  Iris-virginica           5.1          2.3           6.9          3.1      0.420813    False\n",
            " 80 Iris-versicolor           3.5          1.0           5.7          2.6      0.424564    False\n",
            "103  Iris-virginica           5.9          2.1           7.1          3.0      0.431573    False\n",
            " 19     Iris-setosa           1.7          0.3           5.7          3.8      0.443504    False\n",
            " 86 Iris-versicolor           4.5          1.6           6.0          3.4      0.447126    False\n",
            "131  Iris-virginica           6.1          1.9           7.4          2.8      0.448059    False\n",
            " 94 Iris-versicolor           3.3          1.0           5.0          2.3      0.451692    False\n",
            "126  Iris-virginica           6.0          1.8           7.2          3.2      0.457343    False\n",
            "108  Iris-virginica           6.3          1.8           7.3          2.9      0.466823    False\n",
            "149  Iris-virginica           5.4          2.3           6.2          3.4      0.468533    False\n",
            " 65 Iris-versicolor           3.6          1.3           5.6          2.9      0.487902    False\n",
            " 60 Iris-versicolor           3.9          1.4           5.2          2.7      0.496896    False\n",
            " 58 Iris-versicolor           3.3          1.0           4.9          2.4      0.499098    False\n",
            "106  Iris-virginica           6.6          2.1           7.6          3.0      0.499489    False\n",
            " 15     Iris-setosa           1.2          0.2           5.8          4.0      0.513789    False\n",
            " 23     Iris-setosa           1.0          0.2           4.6          3.6      0.518395    False\n",
            "101  Iris-virginica           6.0          2.5           6.3          3.3      0.519844    False\n",
            "130  Iris-virginica           5.8          1.6           7.2          3.0      0.527962    False\n",
            " 88 Iris-versicolor           4.4          1.3           6.3          2.3      0.531071    False\n",
            "123  Iris-virginica           6.7          2.0           7.7          2.8      0.532679    False\n",
            "115  Iris-virginica           5.1          2.4           5.8          2.8      0.533926    False\n",
            " 69 Iris-versicolor           4.5          1.5           6.2          2.2      0.539667    False\n",
            " 63 Iris-versicolor           4.0          1.0           6.0          2.2      0.544685    False\n",
            "120  Iris-virginica           5.0          1.5           6.0          2.2      0.546572    False\n",
            " 16     Iris-setosa           1.5          0.4           5.7          4.4      0.556295    False\n",
            " 61 Iris-versicolor           3.5          1.0           5.0          2.0      0.584977    False\n",
            "109  Iris-virginica           5.8          1.8           6.7          2.5      0.602832    False\n",
            "135  Iris-virginica           5.6          1.4           6.1          2.6      0.608343    False\n",
            " 99 Iris-versicolor           3.0          1.1           5.1          2.5      0.621594    False\n",
            "136  Iris-virginica           6.1          2.3           7.7          3.0      0.625559    False\n",
            "110  Iris-virginica           6.1          2.5           7.2          3.6      0.714318     True\n",
            " 42     Iris-setosa           1.3          0.3           4.5          2.3      0.736302     True\n",
            "119  Iris-virginica           6.9          2.3           7.7          2.6      0.749237     True\n",
            "107  Iris-virginica           4.5          1.7           4.9          2.5      0.810164     True\n",
            "118  Iris-virginica           6.7          2.2           7.7          3.8      0.823174     True\n",
            "132  Iris-virginica           6.4          2.0           7.9          3.8      0.836056     True\n",
            "151             ???           5.1          3.2           5.8          1.0      2.035647     True\n",
            "  2     Iris-setosa          14.0          2.0          40.9         30.0     43.258305     True\n"
          ]
        }
      ],
      "source": [
        "# Urutkan data berdasarkan jarak dari terkecil ke terbesar\n",
        "df_sorted = df_merged.sort_values(by=\"knn_distance\", ascending=True)\n",
        "\n",
        "# Tampilkan hasilnya\n",
        "print(df_sorted.to_string(index=False))\n"
      ]
    }
  ],
  "metadata": {
    "colab": {
      "provenance": []
    },
    "kernelspec": {
      "display_name": "Python 3",
      "name": "python3"
    },
    "language_info": {
      "codemirror_mode": {
        "name": "ipython",
        "version": 3
      },
      "file_extension": ".py",
      "mimetype": "text/x-python",
      "name": "python",
      "nbconvert_exporter": "python",
      "pygments_lexer": "ipython3",
      "version": "3.12.1"
    }
  },
  "nbformat": 4,
  "nbformat_minor": 0
}
