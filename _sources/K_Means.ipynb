{
  "cells": [
    {
      "cell_type": "markdown",
      "metadata": {},
      "source": [
        "# Tugas 3"
      ]
    },
    {
      "cell_type": "markdown",
      "metadata": {
        "id": "PK3D4VAyHnzW"
      },
      "source": [
        "# K-MEANS CLUSTER 2,3 DAN 4"
      ]
    },
    {
      "cell_type": "code",
      "execution_count": 1,
      "metadata": {
        "colab": {
          "base_uri": "https://localhost:8080/"
        },
        "id": "vYjit6OIDBSL",
        "outputId": "b5152ec6-3bfe-4955-b150-3e03c3b48b89"
      },
      "outputs": [
        {
          "name": "stdout",
          "output_type": "stream",
          "text": [
            "Requirement already satisfied: pymysql in c:\\users\\user\\appdata\\local\\programs\\python\\python313\\lib\\site-packages (1.1.1)\n",
            "Note: you may need to restart the kernel to use updated packages.\n"
          ]
        },
        {
          "name": "stderr",
          "output_type": "stream",
          "text": [
            "\n",
            "[notice] A new release of pip is available: 25.0.1 -> 25.1.1\n",
            "[notice] To update, run: python.exe -m pip install --upgrade pip\n"
          ]
        },
        {
          "name": "stdout",
          "output_type": "stream",
          "text": [
            "Requirement already satisfied: psycopg2 in c:\\users\\user\\appdata\\local\\programs\\python\\python313\\lib\\site-packages (2.9.10)\n",
            "Note: you may need to restart the kernel to use updated packages.\n"
          ]
        },
        {
          "name": "stderr",
          "output_type": "stream",
          "text": [
            "\n",
            "[notice] A new release of pip is available: 25.0.1 -> 25.1.1\n",
            "[notice] To update, run: python.exe -m pip install --upgrade pip\n"
          ]
        }
      ],
      "source": [
        "%pip install pymysql\n",
        "%pip install psycopg2"
      ]
    },
    {
      "cell_type": "markdown",
      "metadata": {
        "id": "nEQ6Sw6dHHr_"
      },
      "source": [
        "## Bagian Awal: Ambil dan Gabungkan Data"
      ]
    },
    {
      "cell_type": "code",
      "execution_count": 4,
      "metadata": {
        "colab": {
          "base_uri": "https://localhost:8080/"
        },
        "id": "ikzlcW51FKOX",
        "outputId": "08ae5ccc-bf6e-4ebf-b92c-718204268cf5"
      },
      "outputs": [
        {
          "name": "stdout",
          "output_type": "stream",
          "text": [
            " id           class  petal_length  petal_width  sepal_length  sepal_width\n",
            "  1     Iris-setosa           1.4          0.2           5.1          3.5\n",
            "  2     Iris-setosa          14.0          2.0          49.0         30.0\n",
            "  3     Iris-setosa           1.3          0.2           4.7          3.2\n",
            "  4     Iris-setosa          15.0         20.0          46.0         31.0\n",
            "  5     Iris-setosa           1.4          0.2           5.0          3.6\n",
            "  6     Iris-setosa           1.7          0.4           5.4          3.9\n",
            "  7     Iris-setosa           1.4          0.3           4.6          3.4\n",
            "  8     Iris-setosa           1.5          0.2           5.0          3.4\n",
            "  9     Iris-setosa           1.4          0.2           4.4          2.9\n",
            " 10     Iris-setosa           1.5          0.1           4.9          3.1\n",
            " 11     Iris-setosa           1.5          0.2           5.4          3.7\n",
            " 12     Iris-setosa          16.0         20.0          48.0         34.0\n",
            " 13     Iris-setosa           1.4          0.1           4.8          3.0\n",
            " 14     Iris-setosa           1.1          0.1           4.3          3.0\n",
            " 15     Iris-setosa           1.2          0.2           5.8          4.0\n",
            " 16     Iris-setosa           1.5          0.4           5.7          4.4\n",
            " 17     Iris-setosa           1.3          0.4           5.4          3.9\n",
            " 18     Iris-setosa           1.4          0.3           5.1          3.5\n",
            " 19     Iris-setosa           1.7          0.3           5.7          3.8\n",
            " 20     Iris-setosa           1.5          0.3           5.1          3.8\n",
            " 21     Iris-setosa          17.0          2.0          54.0         34.0\n",
            " 22     Iris-setosa          15.0          4.0          51.0         37.0\n",
            " 23     Iris-setosa           1.0          0.2           4.6          3.6\n",
            " 24     Iris-setosa           1.7          0.5           5.1          3.3\n",
            " 25     Iris-setosa           1.9          0.2           4.8          3.4\n",
            " 26     Iris-setosa           1.6          0.2           5.0          3.0\n",
            " 27     Iris-setosa           1.6          0.4           5.0          3.4\n",
            " 28     Iris-setosa           1.5          0.2           5.2          3.5\n",
            " 29     Iris-setosa           1.4          0.2           5.2          3.4\n",
            " 30     Iris-setosa           1.6          0.2           4.7          3.2\n",
            " 31     Iris-setosa           1.6          0.2           4.8          3.1\n",
            " 32     Iris-setosa           1.5          0.4           5.4          3.4\n",
            " 33     Iris-setosa           1.5          0.1           5.2          4.1\n",
            " 34     Iris-setosa           1.4          0.2           5.5          4.2\n",
            " 35     Iris-setosa           1.5          0.1           4.9          3.1\n",
            " 36     Iris-setosa           1.2          0.2           5.0          3.2\n",
            " 37     Iris-setosa           1.3          0.2           5.5          3.5\n",
            " 38     Iris-setosa           1.5          0.1           4.9          3.1\n",
            " 39     Iris-setosa           1.3          0.2           4.4          3.0\n",
            " 40     Iris-setosa           1.5          0.2           5.1          3.4\n",
            " 41     Iris-setosa           1.3          0.3           5.0          3.5\n",
            " 42     Iris-setosa           1.3          0.3           4.5          2.3\n",
            " 43     Iris-setosa           1.3          0.2           4.4          3.2\n",
            " 44     Iris-setosa           1.6          0.6           5.0          3.5\n",
            " 45     Iris-setosa           1.9          0.4           5.1          3.8\n",
            " 46     Iris-setosa           1.4          0.3           4.8          3.0\n",
            " 47     Iris-setosa           1.6          0.2           5.1          3.8\n",
            " 48     Iris-setosa           1.4          0.2           4.6          3.2\n",
            " 49     Iris-setosa           1.5          0.2           5.3          3.7\n",
            " 50     Iris-setosa           1.4          0.2           5.0          3.3\n",
            " 51 Iris-versicolor           4.7          1.4           7.0          3.2\n",
            " 52 Iris-versicolor           4.5          1.5           6.4          3.2\n",
            " 53 Iris-versicolor           4.9          1.5           6.9          3.1\n",
            " 54 Iris-versicolor           4.0          1.3           5.5          2.3\n",
            " 55 Iris-versicolor           4.6          1.5           6.5          2.8\n",
            " 56 Iris-versicolor           4.5          1.3           5.7          2.8\n",
            " 57 Iris-versicolor           4.7          1.6           6.3          3.3\n",
            " 58 Iris-versicolor           3.3          1.0           4.9          2.4\n",
            " 59 Iris-versicolor          46.0         13.0          66.0         29.0\n",
            " 60 Iris-versicolor           3.9          1.4           5.2          2.7\n",
            " 61 Iris-versicolor          35.0         10.0          50.0         20.0\n",
            " 62 Iris-versicolor           4.2          1.5           5.9          3.0\n",
            " 63 Iris-versicolor           4.0          1.0           6.0          2.2\n",
            " 64 Iris-versicolor           4.7          1.4           6.1          2.9\n",
            " 65 Iris-versicolor           3.6          1.3           5.6          2.9\n",
            " 66 Iris-versicolor           4.4          1.4           6.7          3.1\n",
            " 67 Iris-versicolor          45.0         15.0          56.0         30.0\n",
            " 68 Iris-versicolor           4.1          1.0           5.8          2.7\n",
            " 69 Iris-versicolor           4.5          1.5           6.2          2.2\n",
            " 70 Iris-versicolor           3.9          1.1           5.6          2.5\n",
            " 71 Iris-versicolor           4.8          1.8           5.9          3.2\n",
            " 72 Iris-versicolor           4.0          1.3           6.1          2.8\n",
            " 73 Iris-versicolor           4.9          1.5           6.3          2.5\n",
            " 74 Iris-versicolor           4.7          1.2           6.1          2.8\n",
            " 75 Iris-versicolor           4.3          1.3           6.4          2.9\n",
            " 76 Iris-versicolor           4.4          1.4           6.6          3.0\n",
            " 77 Iris-versicolor           4.8          1.4           6.8          2.8\n",
            " 78 Iris-versicolor          50.0         17.0          67.0         30.0\n",
            " 79 Iris-versicolor           4.5          1.5           6.0          2.9\n",
            " 80 Iris-versicolor           3.5          1.0           5.7          2.6\n",
            " 81 Iris-versicolor           3.8          1.1           5.5          2.4\n",
            " 82 Iris-versicolor           3.7          1.0           5.5          2.4\n",
            " 83 Iris-versicolor           3.9          1.2           5.8          2.7\n",
            " 84 Iris-versicolor           5.1          1.6           6.0          2.7\n",
            " 85 Iris-versicolor           4.5          1.5           5.4          3.0\n",
            " 86 Iris-versicolor           4.5          1.6           6.0          3.4\n",
            " 87 Iris-versicolor           4.7          1.5           6.7          3.1\n",
            " 88 Iris-versicolor           4.4          1.3           6.3          2.3\n",
            " 89 Iris-versicolor           4.1          1.3           5.6          3.0\n",
            " 90 Iris-versicolor           4.0          1.3           5.5          2.5\n",
            " 91 Iris-versicolor           4.4          1.2           5.5          2.6\n",
            " 92 Iris-versicolor           4.6          1.4           6.1          3.0\n",
            " 93 Iris-versicolor           4.0          1.2           5.8          2.6\n",
            " 94 Iris-versicolor          33.0         10.0          50.0         23.0\n",
            " 95 Iris-versicolor           4.2          1.3           5.6          2.7\n",
            " 96 Iris-versicolor           4.2          1.2           5.7          3.0\n",
            " 97 Iris-versicolor           4.2          1.3           5.7          2.9\n",
            " 98 Iris-versicolor           4.3          1.3           6.2          2.9\n",
            " 99 Iris-versicolor           3.0          1.1           5.1          2.5\n",
            "100 Iris-versicolor           4.1          1.3           5.7          2.8\n",
            "101  Iris-virginica           6.0          2.5           6.3          3.3\n",
            "102  Iris-virginica           5.1          1.9           5.8          2.7\n",
            "103  Iris-virginica           5.9          2.1           7.1          3.0\n",
            "104  Iris-virginica           5.6          1.8           6.3          2.9\n",
            "105  Iris-virginica           5.8          2.2           6.5          3.0\n",
            "106  Iris-virginica          66.0         21.0          76.0         30.0\n",
            "107  Iris-virginica           4.5          1.7           4.9          2.5\n",
            "108  Iris-virginica           6.3          1.8           7.3          2.9\n",
            "109  Iris-virginica           5.8          1.8           6.7          2.5\n",
            "110  Iris-virginica          61.0         25.0          72.0         36.0\n",
            "111  Iris-virginica           5.1          2.0           6.5          3.2\n",
            "112  Iris-virginica           5.3          1.9           6.4          2.7\n",
            "113  Iris-virginica           5.5          2.1           6.8          3.0\n",
            "114  Iris-virginica           5.0          2.0           5.7          2.5\n",
            "115  Iris-virginica           5.1          2.4           5.8          2.8\n",
            "116  Iris-virginica           5.3          2.3           6.4          3.2\n",
            "117  Iris-virginica           5.5          1.8           6.5          3.0\n",
            "118  Iris-virginica          67.0         22.0          77.0         38.0\n",
            "119  Iris-virginica           6.9          2.3           7.7          2.6\n",
            "120  Iris-virginica           5.0          1.5           6.0          2.2\n",
            "121  Iris-virginica           5.7          2.3           6.9          3.2\n",
            "122  Iris-virginica           4.9          2.0           5.6          2.8\n",
            "123  Iris-virginica           6.7          2.0           7.7          2.8\n",
            "124  Iris-virginica           4.9          1.8           6.3          2.7\n",
            "125  Iris-virginica           5.7          2.1           6.7          3.3\n",
            "126  Iris-virginica           6.0          1.8           7.2          3.2\n",
            "127  Iris-virginica          48.0         18.0          62.0         38.0\n",
            "128  Iris-virginica           4.9          1.8           6.1          3.0\n",
            "129  Iris-virginica           5.6          2.1           6.4          2.8\n",
            "130  Iris-virginica           5.8          1.6           7.2          3.0\n",
            "131  Iris-virginica           6.1          1.9           7.4          2.8\n",
            "132  Iris-virginica          64.0          2.0          79.0          3.8\n",
            "133  Iris-virginica           5.6          2.2           6.4          2.8\n",
            "134  Iris-virginica           5.1          1.5           6.3          2.8\n",
            "135  Iris-virginica           5.6          1.4           6.1          2.6\n",
            "136  Iris-virginica           6.1          2.3           7.7          3.0\n",
            "137  Iris-virginica           5.6          2.4           6.3          3.4\n",
            "138  Iris-virginica           5.5          1.8           6.4          3.1\n",
            "139  Iris-virginica           4.8          1.8           6.0          3.0\n",
            "140  Iris-virginica           5.4          2.1           6.9          3.1\n",
            "141  Iris-virginica           5.6          2.4           6.7          3.1\n",
            "142  Iris-virginica           5.1          2.3           6.9          3.1\n",
            "143  Iris-virginica           5.1          1.9           5.8          2.7\n",
            "144  Iris-virginica           5.9          2.3           6.8          3.2\n",
            "145  Iris-virginica           5.7          2.5           6.7          3.3\n",
            "146  Iris-virginica           5.2          2.3           6.7          3.0\n",
            "147  Iris-virginica           5.0          1.9           6.3          2.5\n",
            "148  Iris-virginica           5.2          2.0           6.5          3.0\n",
            "149  Iris-virginica           5.4          2.3           6.2          3.4\n",
            "150  Iris-virginica           5.1          1.8           5.9          3.0\n"
          ]
        }
      ],
      "source": [
        "import psycopg2\n",
        "import pymysql\n",
        "import numpy as np\n",
        "import pandas as pd\n",
        "\n",
        "def get_pg_data():\n",
        "    conn = psycopg2.connect(\n",
        "        host=\"postgreependat2-pendat4.h.aivencloud.com\",\n",
        "        user=\"avnadmin\",\n",
        "        password=\"AVNS_4T2SWDdsuTxisd9TzFu\",\n",
        "        database=\"defaultdb\",\n",
        "        port=24915\n",
        "    )\n",
        "    cursor = conn.cursor()\n",
        "    cursor.execute(\"SELECT * FROM iris_postgresql\")\n",
        "    data = cursor.fetchall()\n",
        "    columns = [desc[0] for desc in cursor.description]  # Ambil nama kolom\n",
        "    cursor.close()\n",
        "    conn.close()\n",
        "\n",
        "    return pd.DataFrame(data, columns=columns)\n",
        "\n",
        "def get_mysql_data():\n",
        "    conn = pymysql.connect(\n",
        "        host=\"mysqlpendat23-pendat4.h.aivencloud.com\",\n",
        "        user=\"avnadmin\",\n",
        "        password=\"AVNS_QaQiHV_Bc5n2tLGZIlj\",\n",
        "        database=\"defaultdb\",\n",
        "        port=24915\n",
        "    )\n",
        "    cursor = conn.cursor()\n",
        "    cursor.execute(\"SELECT * FROM irismysql\")\n",
        "    data = cursor.fetchall()\n",
        "    columns = [desc[0] for desc in cursor.description]  # Ambil nama kolom\n",
        "    cursor.close()\n",
        "    conn.close()\n",
        "\n",
        "    return pd.DataFrame(data, columns=columns)\n",
        "\n",
        "# Ambil data dari kedua database\n",
        "df_postgresql = get_pg_data()\n",
        "df_mysql = get_mysql_data()\n",
        "\n",
        "# Gabungkan berdasarkan kolom 'id' dan 'Class'\n",
        "df_merged = pd.merge(df_mysql, df_postgresql, on=[\"id\", \"class\"], how=\"inner\")\n",
        "\n",
        "# Cetak semua data hasil gabungan tanpa indeks\n",
        "print(df_merged.to_string(index=False))"
      ]
    },
    {
      "cell_type": "markdown",
      "metadata": {},
      "source": [
        "Kode Python di atas digunakan untuk mengambil dan menggabungkan data dari dua database berbeda: PostgreSQL dan MySQL, lalu menampilkannya dalam bentuk tabel gabungan. Pertama, program mengimpor pustaka yang diperlukan: psycopg2 untuk koneksi ke PostgreSQL, pymysql untuk koneksi ke MySQL, serta numpy dan pandas untuk manipulasi data. Fungsi get_pg_data() melakukan koneksi ke server PostgreSQL menggunakan informasi host, username, password, database, dan port, lalu menjalankan query untuk mengambil seluruh data dari tabel iris_postgresql. Hasil query diambil dan dikonversi menjadi objek DataFrame pandas, lengkap dengan nama kolom. Fungsi get_mysql_data() melakukan hal yang serupa, tetapi terhadap database MySQL dan tabel irismysql.\n",
        "\n",
        "Setelah data dari kedua database berhasil diambil, masing-masing dalam bentuk DataFrame, program menggunakan fungsi pd.merge() dari pandas untuk menggabungkan kedua DataFrame tersebut berdasarkan kolom id dan class, dengan metode penggabungan inner, yang berarti hanya data yang memiliki pasangan cocok pada kedua sisi yang akan disertakan dalam hasil akhir. Hasil dari penggabungan ini disimpan dalam variabel df_merged. Terakhir, data yang sudah digabungkan dicetak ke layar dalam bentuk tabel lengkap tanpa menampilkan indeks baris, menggunakan fungsi to_string(index=False) dari pandas."
      ]
    },
    {
      "cell_type": "markdown",
      "metadata": {
        "id": "ASHGuu2HGpS7"
      },
      "source": [
        "## Preprocessing dan Reduksi Dimensi"
      ]
    },
    {
      "cell_type": "code",
      "execution_count": 5,
      "metadata": {
        "id": "yIHl7a-EFS0q"
      },
      "outputs": [],
      "source": [
        "from sklearn.preprocessing import StandardScaler\n",
        "from sklearn.decomposition import PCA\n",
        "\n",
        "# Drop kolom non-numerik\n",
        "features = df_merged.drop(columns=['id', 'class'])\n",
        "\n",
        "# Normalisasi\n",
        "scaler = StandardScaler()\n",
        "scaled_features = scaler.fit_transform(features)\n",
        "\n",
        "# Reduksi dimensi untuk visualisasi\n",
        "pca = PCA(n_components=2)\n",
        "reduced_features = pca.fit_transform(scaled_features)\n"
      ]
    },
    {
      "cell_type": "markdown",
      "metadata": {},
      "source": [
        "Kode di atas digunakan untuk melakukan normalisasi data dan reduksi dimensi pada data hasil gabungan sebelumnya (df_merged), dengan tujuan agar data tersebut bisa divisualisasikan secara lebih sederhana dan mudah dipahami. Langkah pertama dilakukan dengan menghapus kolom non-numerik, yaitu id dan class, karena kedua kolom tersebut tidak relevan untuk analisis numerik atau statistik. Kolom-kolom yang tersisa kemudian dimasukkan ke dalam variabel features.\n",
        "\n",
        "Selanjutnya, data pada features dinormalisasi menggunakan StandardScaler dari pustaka sklearn.preprocessing. Proses normalisasi ini penting untuk memastikan bahwa setiap fitur memiliki rata-rata 0 dan standar deviasi 1, sehingga semua fitur memiliki skala yang sama dan tidak ada fitur yang mendominasi yang lain dalam proses analisis. Setelah normalisasi, fitur yang telah diskalakan disimpan dalam scaled_features.\n",
        "\n",
        "Kemudian, dilakukan reduksi dimensi menggunakan Principal Component Analysis (PCA) dari sklearn.decomposition. PCA adalah teknik statistik yang digunakan untuk menyederhanakan dataset berdimensi tinggi dengan mengubahnya menjadi dimensi yang lebih rendah sambil tetap mempertahankan sebanyak mungkin variasi atau informasi penting dari data aslinya. Dalam hal ini, data direduksi menjadi hanya dua komponen utama (n_components=2) agar dapat divisualisasikan secara dua dimensi. Hasil akhir dari reduksi ini disimpan dalam reduced_features."
      ]
    },
    {
      "cell_type": "markdown",
      "metadata": {
        "id": "L0oRa376GuG4"
      },
      "source": [
        "## Clustering + Visualisasi (2 Cluster)"
      ]
    },
    {
      "cell_type": "code",
      "execution_count": 6,
      "metadata": {
        "colab": {
          "base_uri": "https://localhost:8080/",
          "height": 427
        },
        "id": "TxmjZ2gXGYlj",
        "outputId": "f7dd3c88-c4f7-4fbe-cac1-48f09c2f9b6e"
      },
      "outputs": [
        {
          "name": "stdout",
          "output_type": "stream",
          "text": [
            "[2 Clusters] Inertia: 111.05, Silhouette Score: 0.9037\n"
          ]
        },
        {
          "data": {
            "image/png": "[encoded data removed]",
            "text/plain": [
              "<Figure size 600x400 with 1 Axes>"
            ]
          },
          "metadata": {},
          "output_type": "display_data"
        }
      ],
      "source": [
        "import matplotlib.pyplot as plt\n",
        "from sklearn.cluster import KMeans\n",
        "from sklearn.metrics import silhouette_score\n",
        "\n",
        "# KMeans dengan 2 cluster\n",
        "kmeans_2 = KMeans(n_clusters=2, random_state=42, n_init=10)\n",
        "labels_2 = kmeans_2.fit_predict(scaled_features)\n",
        "\n",
        "# Metode evaluasi\n",
        "inertia_2 = kmeans_2.inertia_\n",
        "silhouette_2 = silhouette_score(scaled_features, labels_2)\n",
        "\n",
        "print(f\"[2 Clusters] Inertia: {inertia_2:.2f}, Silhouette Score: {silhouette_2:.4f}\")\n",
        "\n",
        "# Visualisasi\n",
        "plt.figure(figsize=(6, 4))\n",
        "plt.scatter(reduced_features[:, 0], reduced_features[:, 1], c=labels_2, cmap='viridis', s=50)\n",
        "plt.title(\"KMeans Clustering (2 Clusters)\")\n",
        "plt.xlabel(\"PCA 1\")\n",
        "plt.ylabel(\"PCA 2\")\n",
        "plt.grid(True)\n",
        "plt.show()\n"
      ]
    },
    {
      "cell_type": "markdown",
      "metadata": {},
      "source": [
        "Kode di atas digunakan untuk menerapkan algoritma K-Means clustering dengan jumlah cluster sebanyak dua, dan mengevaluasi hasilnya menggunakan dua metrik utama: inertia dan silhouette score. Pertama, objek KMeans dibuat dengan parameter n_clusters=2, yang berarti algoritma akan mencoba membagi data ke dalam dua kelompok. Parameter random_state=42 digunakan untuk memastikan hasil yang konsisten setiap kali kode dijalankan, sedangkan n_init=10 menentukan bahwa algoritma akan dijalankan sebanyak 10 kali dengan pusat cluster awal yang berbeda, dan hasil terbaik akan diambil.\n",
        "\n",
        "Setelah model KMeans dilatih dengan data yang sudah dinormalisasi (scaled_features), label hasil cluster disimpan di variabel labels_2. Kemudian, dua metrik evaluasi dihitung: inertia, yaitu total jarak kuadrat dari setiap titik ke pusat klusternya (semakin kecil semakin baik), dan silhouette_score, yaitu skor yang mengukur seberapa baik pemisahan antar cluster (semakin mendekati 1, semakin baik). Dalam output yang ditampilkan, nilai inertia adalah 111.05, dan silhouette score sebesar 0.9037, yang menunjukkan kualitas pemisahan cluster yang sangat baik.\n",
        "\n",
        "Hasil dari clustering ini divisualisasikan menggunakan scatter plot berdasarkan dua komponen utama hasil PCA (reduced_features), dengan setiap titik diwarnai berdasarkan label cluster-nya (c=labels_2). Pada visualisasi yang ditampilkan, tampak dua cluster yang sangat jelas terpisah: satu cluster berwarna ungu gelap terkonsentrasi di sekitar titik pusat (kiri bawah grafik), dan satu cluster berwarna kuning tersebar lebih luas di sisi kanan grafik. Pola ini memperkuat temuan dari silhouette score yang tinggi, menandakan bahwa model KMeans berhasil membentuk dua kelompok data yang secara struktural berbeda satu sama lain."
      ]
    },
    {
      "cell_type": "markdown",
      "metadata": {
        "id": "Xqzlob3SG3Qm"
      },
      "source": [
        "## Clustering + Visualisasi (3 Cluster)"
      ]
    },
    {
      "cell_type": "code",
      "execution_count": 7,
      "metadata": {
        "colab": {
          "base_uri": "https://localhost:8080/",
          "height": 427
        },
        "id": "Y2PZfhCDGb91",
        "outputId": "314268d0-0551-4b5e-aef0-df6d1f05b1f8"
      },
      "outputs": [
        {
          "name": "stdout",
          "output_type": "stream",
          "text": [
            "[3 Clusters] Inertia: 65.11, Silhouette Score: 0.8879\n"
          ]
        },
        {
          "data": {
            "image/png": "[encoded data removed]",
            "text/plain": [
              "<Figure size 600x400 with 1 Axes>"
            ]
          },
          "metadata": {},
          "output_type": "display_data"
        }
      ],
      "source": [
        "# KMeans dengan 3 cluster\n",
        "kmeans_3 = KMeans(n_clusters=3, random_state=42, n_init=10)\n",
        "labels_3 = kmeans_3.fit_predict(scaled_features)\n",
        "\n",
        "inertia_3 = kmeans_3.inertia_\n",
        "silhouette_3 = silhouette_score(scaled_features, labels_3)\n",
        "\n",
        "print(f\"[3 Clusters] Inertia: {inertia_3:.2f}, Silhouette Score: {silhouette_3:.4f}\")\n",
        "\n",
        "plt.figure(figsize=(6, 4))\n",
        "plt.scatter(reduced_features[:, 0], reduced_features[:, 1], c=labels_3, cmap='viridis', s=50)\n",
        "plt.title(\"KMeans Clustering (3 Clusters)\")\n",
        "plt.xlabel(\"PCA 1\")\n",
        "plt.ylabel(\"PCA 2\")\n",
        "plt.grid(True)\n",
        "plt.show()\n"
      ]
    },
    {
      "cell_type": "markdown",
      "metadata": {},
      "source": [
        "Kode di atas digunakan untuk menerapkan algoritma K-Means clustering dengan jumlah cluster sebanyak 3, dan mengevaluasi hasilnya menggunakan dua metrik penting: inertia dan silhouette score. Pertama, objek KMeans diinisialisasi dengan n_clusters=3, lalu data yang telah dinormalisasi (scaled_features) diproses untuk mendapatkan label hasil cluster (labels_3). Nilai inertia menunjukkan total jarak kuadrat dari tiap titik ke pusat cluster-nya, dan semakin kecil nilainya berarti cluster semakin kompak. Dalam kasus ini, inertia-nya adalah 65.11, jauh lebih kecil dibandingkan hasil sebelumnya dengan 2 cluster (111.05), yang menandakan bahwa distribusi dalam cluster lebih rapat.\n",
        "\n",
        "Namun, meskipun inertia lebih kecil, silhouette score yang dihasilkan adalah 0.8879, sedikit lebih rendah daripada saat menggunakan 2 cluster (0.9037). Ini menunjukkan bahwa meskipun distribusi titik dalam cluster lebih padat, pemisahan antar cluster tidak sejelas sebelumnya. Dengan kata lain, menambah jumlah cluster tidak selalu menghasilkan kualitas pemisahan yang lebih baik.\n",
        "\n",
        "Visualisasi hasil clustering ditampilkan dalam bentuk scatter plot dua dimensi berdasarkan hasil reduksi PCA. Masing-masing titik diwarnai berdasarkan cluster-nya, dan terlihat bahwa titik-titik kini dikelompokkan menjadi tiga warna berbeda. Secara visual, tiga cluster memang dapat dibedakan, namun dua di antaranya (kuning dan hijau tosca) memiliki area yang cukup berdekatan, sementara cluster ungu masih terkonsentrasi di sisi kiri bawah. Hal ini mencerminkan kenapa silhouette score-nya sedikit lebih rendah—karena terdapat kemungkinan tumpang tindih antar cluster."
      ]
    },
    {
      "cell_type": "markdown",
      "metadata": {
        "id": "_fByp0JeG7KA"
      },
      "source": [
        "## Clustering + Visualisasi (4 Cluster)"
      ]
    },
    {
      "cell_type": "code",
      "execution_count": 8,
      "metadata": {
        "colab": {
          "base_uri": "https://localhost:8080/",
          "height": 427
        },
        "id": "UD3tq39CGip2",
        "outputId": "5de6c9f1-ac3b-4b9e-ebd4-a36004f2ccef"
      },
      "outputs": [
        {
          "name": "stdout",
          "output_type": "stream",
          "text": [
            "[4 Clusters] Inertia: 47.18, Silhouette Score: 0.8944\n"
          ]
        },
        {
          "data": {
            "image/png": "[encoded data removed]",
            "text/plain": [
              "<Figure size 600x400 with 1 Axes>"
            ]
          },
          "metadata": {},
          "output_type": "display_data"
        }
      ],
      "source": [
        "# KMeans dengan 4 cluster\n",
        "kmeans_4 = KMeans(n_clusters=4, random_state=42, n_init=10)\n",
        "labels_4 = kmeans_4.fit_predict(scaled_features)\n",
        "\n",
        "inertia_4 = kmeans_4.inertia_\n",
        "silhouette_4 = silhouette_score(scaled_features, labels_4)\n",
        "\n",
        "print(f\"[4 Clusters] Inertia: {inertia_4:.2f}, Silhouette Score: {silhouette_4:.4f}\")\n",
        "\n",
        "plt.figure(figsize=(6, 4))\n",
        "plt.scatter(reduced_features[:, 0], reduced_features[:, 1], c=labels_4, cmap='viridis', s=50)\n",
        "plt.title(\"KMeans Clustering (4 Clusters)\")\n",
        "plt.xlabel(\"PCA 1\")\n",
        "plt.ylabel(\"PCA 2\")\n",
        "plt.grid(True)\n",
        "plt.show()\n"
      ]
    },
    {
      "cell_type": "markdown",
      "metadata": {},
      "source": [
        "Kode di atas melanjutkan eksplorasi metode K-Means clustering dengan menerapkan jumlah cluster sebanyak 4, dengan tujuan untuk mengetahui apakah pemisahan data menjadi 4 kelompok menghasilkan segmentasi yang lebih baik. Seperti sebelumnya, objek KMeans diinisialisasi dengan n_clusters=4, dan data scaled_features digunakan untuk memprediksi label cluster. Hasil clustering dievaluasi menggunakan dua metrik utama: inertia dan silhouette score.\n",
        "\n",
        "Nilai inertia untuk 4 cluster adalah 47.18, yang semakin kecil dibandingkan 2 dan 3 cluster sebelumnya. Ini menunjukkan bahwa titik-titik data semakin dekat ke pusat clusternya masing-masing, alias semakin rapat. Namun demikian, nilai silhouette score adalah 0.8944, yang sedikit lebih rendah dibandingkan saat menggunakan 2 cluster (0.9037), tapi sedikit lebih tinggi dari saat menggunakan 3 cluster (0.8879). Ini menandakan bahwa pemisahan antar cluster tetap baik, meskipun ada indikasi bahwa beberapa cluster mulai tumpang tindih atau kurang terdefinisi secara tajam.\n",
        "\n",
        "Dari visualisasi yang dihasilkan, data direpresentasikan dalam dua dimensi hasil reduksi PCA. Terlihat ada 4 kelompok dengan warna berbeda, dan sebagian cluster tampak cukup dekat satu sama lain, khususnya dua cluster yang berada di sisi kanan bawah grafik. Sementara itu, satu cluster di sisi kiri tetap terkonsentrasi rapi, seperti pada hasil clustering sebelumnya.\n",
        "\n",
        "Secara keseluruhan, penambahan jumlah cluster menjadi 4 menghasilkan segmentasi yang lebih granular dan inertia yang lebih rendah, tetapi sedikit mengorbankan kualitas pemisahan antar cluster, sebagaimana ditunjukkan oleh nilai silhouette score yang mulai menurun jika dibandingkan dengan saat hanya menggunakan 2 cluster."
      ]
    }
  ],
  "metadata": {
    "colab": {
      "provenance": []
    },
    "kernelspec": {
      "display_name": "Python 3",
      "name": "python3"
    },
    "language_info": {
      "codemirror_mode": {
        "name": "ipython",
        "version": 3
      },
      "file_extension": ".py",
      "mimetype": "text/x-python",
      "name": "python",
      "nbconvert_exporter": "python",
      "pygments_lexer": "ipython3",
      "version": "3.13.2"
    }
  },
  "nbformat": 4,
  "nbformat_minor": 0
}
