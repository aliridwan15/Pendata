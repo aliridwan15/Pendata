{
 "cells": [
  {
   "cell_type": "markdown",
   "metadata": {},
   "source": [
    "# Data Mining (Penambangan Data)\n",
    "Penambangan data (data mining) adalah proses mengekstraksi informasi atau pola yang bermanfaat dari kumpulan data besar menggunakan teknik statistik, kecerdasan buatan, dan pembelajaran mesin. Proses ini bertujuan untuk menemukan hubungan tersembunyi, tren, atau pola yang dapat digunakan untuk pengambilan keputusan.\n",
    "\n",
    "Dalam konteks Teknik Informatika, data mining sering digunakan dalam berbagai bidang, seperti analisis bisnis, deteksi anomali, sistem rekomendasi, dan prediksi tren. Proses ini melibatkan beberapa tahapan, termasuk pengumpulan data, pembersihan data, pemrosesan, analisis, dan interpretasi hasil."
   ]
  }
 ],
 "metadata": {
  "kernelspec": {
   "display_name": "Python 3",
   "language": "python",
   "name": "python3"
  },
  "language_info": {
   "codemirror_mode": {
    "name": "ipython",
    "version": 3
   },
   "file_extension": ".py",
   "mimetype": "text/x-python",
   "name": "python",
   "nbconvert_exporter": "python",
   "pygments_lexer": "ipython3",
   "version": "3.8.0"
  },
  "widgets": {
   "application/vnd.jupyter.widget-state+json": {
    "state": {},
    "version_major": 2,
    "version_minor": 0
   }
  }
 },
 "nbformat": 4,
 "nbformat_minor": 4
}
